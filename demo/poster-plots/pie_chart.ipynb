{
 "cells": [
  {
   "cell_type": "code",
   "execution_count": 1,
   "id": "340496f9",
   "metadata": {},
   "outputs": [],
   "source": [
    "import pandas as pd\n",
    "import matplotlib.pyplot as plt\n"
   ]
  },
  {
   "cell_type": "code",
   "execution_count": null,
   "id": "3602a9c7",
   "metadata": {},
   "outputs": [],
   "source": [
    "df=pd.read_pickle('.\\conversations.pkl')"
   ]
  },
  {
   "cell_type": "code",
   "execution_count": null,
   "id": "ea5cf47a",
   "metadata": {},
   "outputs": [],
   "source": [
    "df_reset = df.reset_index(level='conversation')\n",
    "\n",
    "\n",
    "result = (\n",
    "    df_reset\n",
    "    .groupby('category')['conversation']\n",
    "    .nunique()\n",
    "    .reset_index(name='conversation_count')\n",
    "    .sort_values('category')\n",
    ")"
   ]
  },
  {
   "cell_type": "code",
   "execution_count": null,
   "id": "9ff6362b",
   "metadata": {},
   "outputs": [],
   "source": [
    "categories = result.category\n",
    "values = result.conversation_count\n",
    "\n",
    "\n",
    "colors = ['#6a0dad', '#7b68ee', '#9370db', '#6495ed', '#00bfff', '#4169e1']\n",
    "\n",
    "plt.figure(figsize=(8, 8))\n",
    "plt.pie(values, labels=categories, autopct='%1.1f%%', startangle=90, colors=colors)\n",
    "plt.axis('equal')  \n",
    "\n",
    "plt.show()"
   ]
  }
 ],
 "metadata": {
  "kernelspec": {
   "display_name": "Python 3",
   "language": "python",
   "name": "python3"
  },
  "language_info": {
   "codemirror_mode": {
    "name": "ipython",
    "version": 3
   },
   "file_extension": ".py",
   "mimetype": "text/x-python",
   "name": "python",
   "nbconvert_exporter": "python",
   "pygments_lexer": "ipython3",
   "version": "3.13.5"
  }
 },
 "nbformat": 4,
 "nbformat_minor": 5
}
