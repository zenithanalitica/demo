{
 "cells": [
  {
   "cell_type": "code",
   "execution_count": 1,
   "id": "4afef53a",
   "metadata": {},
   "outputs": [
    {
     "name": "stdout",
     "output_type": "stream",
     "text": [
      "Note: you may need to restart the kernel to use updated packages.\n"
     ]
    },
    {
     "name": "stderr",
     "output_type": "stream",
     "text": [
      "\u001b[2mResolved \u001b[1m22 packages\u001b[0m \u001b[2min 1ms\u001b[0m\u001b[0m\n",
      "\u001b[2mAudited \u001b[1m21 packages\u001b[0m \u001b[2min 0.04ms\u001b[0m\u001b[0m\n"
     ]
    }
   ],
   "source": [
    "uv add pandas"
   ]
  },
  {
   "cell_type": "code",
   "execution_count": 2,
   "id": "94feb276",
   "metadata": {},
   "outputs": [
    {
     "name": "stdout",
     "output_type": "stream",
     "text": [
      "Note: you may need to restart the kernel to use updated packages.\n"
     ]
    },
    {
     "name": "stderr",
     "output_type": "stream",
     "text": [
      "\u001b[2mResolved \u001b[1m24 packages\u001b[0m \u001b[2min 725ms\u001b[0m\u001b[0m\n",
      "\u001b[36m\u001b[1mDownloading\u001b[0m\u001b[39m plotly \u001b[2m(15.5MiB)\u001b[0m\n",
      " \u001b[32m\u001b[1mDownloading\u001b[0m\u001b[39m plotly\n",
      "\u001b[2mPrepared \u001b[1m2 packages\u001b[0m \u001b[2min 10.40s\u001b[0m\u001b[0m\n",
      "\u001b[2mInstalled \u001b[1m2 packages\u001b[0m \u001b[2min 2.75s\u001b[0m\u001b[0m\n",
      " \u001b[32m+\u001b[39m \u001b[1mnarwhals\u001b[0m\u001b[2m==1.42.1\u001b[0m\n",
      " \u001b[32m+\u001b[39m \u001b[1mplotly\u001b[0m\u001b[2m==6.1.2\u001b[0m\n"
     ]
    }
   ],
   "source": [
    "uv add plotly"
   ]
  },
  {
   "cell_type": "code",
   "execution_count": 4,
   "id": "fc7e0b99",
   "metadata": {},
   "outputs": [],
   "source": [
    "import pandas as pd"
   ]
  },
  {
   "cell_type": "code",
   "execution_count": null,
   "id": "24839be6",
   "metadata": {},
   "outputs": [],
   "source": [
    "df=pd.read_pickle('.\\conversations.pkl')"
   ]
  },
  {
   "cell_type": "code",
   "execution_count": null,
   "id": "daaea3b2",
   "metadata": {},
   "outputs": [],
   "source": [
    "from plotly.offline import init_notebook_mode, iplot\n",
    "import plotly.graph_objects as go\n",
    "\n",
    "# 1) Enable offline\n",
    "init_notebook_mode(connected=True)\n",
    "\n",
    "# 2) Reset index and sort\n",
    "df_reset  = df.reset_index()\n",
    "df_sorted = df_reset.sort_values(['airline','conversation','tweet'])\n",
    "\n",
    "# 3) Filter to the airline you confirmed exists\n",
    "AIRLINE_ID = '18332190'   # ← replace with a valid ID from the printout\n",
    "df_airline = df_sorted[df_sorted['airline'] == AIRLINE_ID]\n",
    "\n",
    "if df_airline.empty:\n",
    "    print(f\"No data found for airline {AIRLINE_ID}\")\n",
    "else:\n",
    "    # 4) Compute first & last sentiments\n",
    "    trans = (\n",
    "        df_airline\n",
    "        .groupby(['airline','conversation'])['sentiment_label']\n",
    "        .agg(first='first', last='last')\n",
    "        .reset_index()\n",
    "    )\n",
    "\n",
    "    # 5) Count transitions\n",
    "    counts = trans.groupby(['first','last']).size().reset_index(name='count')\n",
    "\n",
    "    # 6) Sankey boilerplate (same as before)\n",
    "    # labels = [\"Positive\\n\", \"Neutral\\n\", \"Negative\\n\",\n",
    "    #           \"Positive\\n\",  \"Neutral\\n\",  \"Negative\\n\"]\n",
    "    colors = [\"#4CAF50\",\"#9E9E9E\",\"#F44336\"]*2\n",
    "    first_map = {\"positive\":0,\"neutral\":1,\"negative\":2}\n",
    "    last_map  = {\"positive\":3,\"neutral\":4,\"negative\":5}\n",
    "    sources = counts['first'].map(first_map)\n",
    "    targets = counts['last'].map(last_map)\n",
    "    values  = counts['count']\n",
    "    link_colors = [colors[s] for s in sources]\n",
    "\n",
    "    x = [0,0,0,  1,1,1]\n",
    "    y = [0.9,0.5,0.1,  0.9,0.5,0.1]\n",
    "\n",
    "    fig = go.Figure(go.Sankey(\n",
    "        arrangement=\"fixed\",\n",
    "        node=dict( color=colors, x=x, y=y,\n",
    "                  pad=20, thickness=30, line=dict(color=\"black\",width=1)),\n",
    "        link=dict(source=sources, target=targets, value=values, color=link_colors)\n",
    "    ))\n",
    "\n",
    "    fig.update_layout(\n",
    "        title_text=f\"Sentiment Transition for British Airways\",\n",
    "        width=600, height=600,\n",
    "        margin=dict(l=50,r=50,t=80,b=50),\n",
    "        plot_bgcolor=\"white\"\n",
    "    )\n",
    "    iplot(fig)"
   ]
  },
  {
   "cell_type": "code",
   "execution_count": null,
   "id": "9ff6527e",
   "metadata": {},
   "outputs": [],
   "source": [
    "# data which was manually selected from the interactive plot\n",
    "# tweets were sentiments improved => 15.77 K => 37.9%\n",
    "# tweets were sentiments worsened => 6.14 K => 14.7%\n",
    "# sentiment didnt change => 19.74 K => 47.4%\n",
    "#total conversations => 41.65\n"
   ]
  }
 ],
 "metadata": {
  "kernelspec": {
   "display_name": "Python 3",
   "language": "python",
   "name": "python3"
  },
  "language_info": {
   "codemirror_mode": {
    "name": "ipython",
    "version": 3
   },
   "file_extension": ".py",
   "mimetype": "text/x-python",
   "name": "python",
   "nbconvert_exporter": "python",
   "pygments_lexer": "ipython3",
   "version": "3.13.5"
  }
 },
 "nbformat": 4,
 "nbformat_minor": 5
}
