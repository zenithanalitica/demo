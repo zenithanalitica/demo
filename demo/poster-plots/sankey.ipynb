{
 "cells": [
  {
   "cell_type": "code",
   "execution_count": 1,
   "id": "4afef53a",
   "metadata": {},
   "outputs": [
    {
     "name": "stdout",
     "output_type": "stream",
     "text": [
      "Note: you may need to restart the kernel to use updated packages.\n"
     ]
    },
    {
     "name": "stderr",
     "output_type": "stream",
     "text": [
      "\u001b[2mResolved \u001b[1m22 packages\u001b[0m \u001b[2min 1ms\u001b[0m\u001b[0m\n",
      "\u001b[2mAudited \u001b[1m21 packages\u001b[0m \u001b[2min 0.04ms\u001b[0m\u001b[0m\n"
     ]
    }
   ],
   "source": [
    "uv add pandas"
   ]
  },
  {
   "cell_type": "code",
   "execution_count": 2,
   "id": "94feb276",
   "metadata": {},
   "outputs": [
    {
     "name": "stdout",
     "output_type": "stream",
     "text": [
      "Note: you may need to restart the kernel to use updated packages.\n"
     ]
    },
    {
     "name": "stderr",
     "output_type": "stream",
     "text": [
      "\u001b[2mResolved \u001b[1m24 packages\u001b[0m \u001b[2min 725ms\u001b[0m\u001b[0m\n",
      "\u001b[36m\u001b[1mDownloading\u001b[0m\u001b[39m plotly \u001b[2m(15.5MiB)\u001b[0m\n",
      " \u001b[32m\u001b[1mDownloading\u001b[0m\u001b[39m plotly\n",
      "\u001b[2mPrepared \u001b[1m2 packages\u001b[0m \u001b[2min 10.40s\u001b[0m\u001b[0m\n",
      "\u001b[2mInstalled \u001b[1m2 packages\u001b[0m \u001b[2min 2.75s\u001b[0m\u001b[0m\n",
      " \u001b[32m+\u001b[39m \u001b[1mnarwhals\u001b[0m\u001b[2m==1.42.1\u001b[0m\n",
      " \u001b[32m+\u001b[39m \u001b[1mplotly\u001b[0m\u001b[2m==6.1.2\u001b[0m\n"
     ]
    }
   ],
   "source": [
    "uv add plotly"
   ]
  },
  {
   "cell_type": "code",
   "execution_count": 4,
   "id": "fc7e0b99",
   "metadata": {},
   "outputs": [],
   "source": [
    "import pandas as pd"
   ]
  },
  {
   "cell_type": "code",
   "execution_count": 6,
   "id": "24839be6",
   "metadata": {},
   "outputs": [],
   "source": [
    "df=pd.read_pickle('processed_conversations2.pkl')"
   ]
  },
  {
   "cell_type": "code",
   "execution_count": 10,
   "id": "f9893d9e",
   "metadata": {},
   "outputs": [
    {
     "data": {
      "text/html": [
       "        <script type=\"text/javascript\">\n",
       "        window.PlotlyConfig = {MathJaxConfig: 'local'};\n",
       "        if (window.MathJax && window.MathJax.Hub && window.MathJax.Hub.Config) {window.MathJax.Hub.Config({SVG: {font: \"STIX-Web\"}});}\n",
       "        </script>\n",
       "        <script type=\"module\">import \"https://cdn.plot.ly/plotly-3.0.1.min\"</script>\n",
       "        "
      ]
     },
     "metadata": {},
     "output_type": "display_data"
    },
    {
     "ename": "ValueError",
     "evalue": "Mime type rendering requires nbformat>=4.2.0 but it is not installed",
     "output_type": "error",
     "traceback": [
      "\u001b[31m---------------------------------------------------------------------------\u001b[39m",
      "\u001b[31mValueError\u001b[39m                                Traceback (most recent call last)",
      "\u001b[36mCell\u001b[39m\u001b[36m \u001b[39m\u001b[32mIn[10]\u001b[39m\u001b[32m, line 85\u001b[39m\n\u001b[32m     77\u001b[39m \u001b[38;5;66;03m# 9) Force a square layout and display\u001b[39;00m\n\u001b[32m     78\u001b[39m fig.update_layout(\n\u001b[32m     79\u001b[39m     title_text=\u001b[33m\"\u001b[39m\u001b[33mSentiment Transition: First Tweet → Avg(3rd+) Tweet\u001b[39m\u001b[33m\"\u001b[39m,\n\u001b[32m     80\u001b[39m     width=\u001b[32m600\u001b[39m, height=\u001b[32m600\u001b[39m,\n\u001b[32m   (...)\u001b[39m\u001b[32m     83\u001b[39m     plot_bgcolor=\u001b[33m\"\u001b[39m\u001b[33mwhite\u001b[39m\u001b[33m\"\u001b[39m\n\u001b[32m     84\u001b[39m )\n\u001b[32m---> \u001b[39m\u001b[32m85\u001b[39m \u001b[43miplot\u001b[49m\u001b[43m(\u001b[49m\u001b[43mfig\u001b[49m\u001b[43m)\u001b[49m\n",
      "\u001b[36mFile \u001b[39m\u001b[32mc:\\Users\\20244270\\AppData\\Local\\Programs\\Python\\Python313\\Lib\\site-packages\\plotly\\offline\\offline.py:388\u001b[39m, in \u001b[36miplot\u001b[39m\u001b[34m(figure_or_data, show_link, link_text, validate, image, filename, image_width, image_height, config, auto_play, animation_opts)\u001b[39m\n\u001b[32m    383\u001b[39m post_script = build_save_image_post_script(\n\u001b[32m    384\u001b[39m     image, filename, image_height, image_width, \u001b[33m\"\u001b[39m\u001b[33miplot\u001b[39m\u001b[33m\"\u001b[39m\n\u001b[32m    385\u001b[39m )\n\u001b[32m    387\u001b[39m \u001b[38;5;66;03m# Show figure\u001b[39;00m\n\u001b[32m--> \u001b[39m\u001b[32m388\u001b[39m \u001b[43mpio\u001b[49m\u001b[43m.\u001b[49m\u001b[43mshow\u001b[49m\u001b[43m(\u001b[49m\n\u001b[32m    389\u001b[39m \u001b[43m    \u001b[49m\u001b[43mfigure\u001b[49m\u001b[43m,\u001b[49m\n\u001b[32m    390\u001b[39m \u001b[43m    \u001b[49m\u001b[43mvalidate\u001b[49m\u001b[43m=\u001b[49m\u001b[43mvalidate\u001b[49m\u001b[43m,\u001b[49m\n\u001b[32m    391\u001b[39m \u001b[43m    \u001b[49m\u001b[43mconfig\u001b[49m\u001b[43m=\u001b[49m\u001b[43mconfig\u001b[49m\u001b[43m,\u001b[49m\n\u001b[32m    392\u001b[39m \u001b[43m    \u001b[49m\u001b[43mauto_play\u001b[49m\u001b[43m=\u001b[49m\u001b[43mauto_play\u001b[49m\u001b[43m,\u001b[49m\n\u001b[32m    393\u001b[39m \u001b[43m    \u001b[49m\u001b[43mpost_script\u001b[49m\u001b[43m=\u001b[49m\u001b[43mpost_script\u001b[49m\u001b[43m,\u001b[49m\n\u001b[32m    394\u001b[39m \u001b[43m    \u001b[49m\u001b[43manimation_opts\u001b[49m\u001b[43m=\u001b[49m\u001b[43manimation_opts\u001b[49m\u001b[43m,\u001b[49m\n\u001b[32m    395\u001b[39m \u001b[43m\u001b[49m\u001b[43m)\u001b[49m\n",
      "\u001b[36mFile \u001b[39m\u001b[32mc:\\Users\\20244270\\AppData\\Local\\Programs\\Python\\Python313\\Lib\\site-packages\\plotly\\io\\_renderers.py:425\u001b[39m, in \u001b[36mshow\u001b[39m\u001b[34m(fig, renderer, validate, **kwargs)\u001b[39m\n\u001b[32m    420\u001b[39m     \u001b[38;5;28;01mraise\u001b[39;00m \u001b[38;5;167;01mValueError\u001b[39;00m(\n\u001b[32m    421\u001b[39m         \u001b[33m\"\u001b[39m\u001b[33mMime type rendering requires ipython but it is not installed\u001b[39m\u001b[33m\"\u001b[39m\n\u001b[32m    422\u001b[39m     )\n\u001b[32m    424\u001b[39m \u001b[38;5;28;01mif\u001b[39;00m \u001b[38;5;129;01mnot\u001b[39;00m nbformat \u001b[38;5;129;01mor\u001b[39;00m Version(nbformat.__version__) < Version(\u001b[33m\"\u001b[39m\u001b[33m4.2.0\u001b[39m\u001b[33m\"\u001b[39m):\n\u001b[32m--> \u001b[39m\u001b[32m425\u001b[39m     \u001b[38;5;28;01mraise\u001b[39;00m \u001b[38;5;167;01mValueError\u001b[39;00m(\n\u001b[32m    426\u001b[39m         \u001b[33m\"\u001b[39m\u001b[33mMime type rendering requires nbformat>=4.2.0 but it is not installed\u001b[39m\u001b[33m\"\u001b[39m\n\u001b[32m    427\u001b[39m     )\n\u001b[32m    429\u001b[39m display_jupyter_version_warnings()\n\u001b[32m    431\u001b[39m ipython_display.display(bundle, raw=\u001b[38;5;28;01mTrue\u001b[39;00m)\n",
      "\u001b[31mValueError\u001b[39m: Mime type rendering requires nbformat>=4.2.0 but it is not installed"
     ]
    }
   ],
   "source": [
    "import pandas as pd\n",
    "from plotly.offline import init_notebook_mode, iplot\n",
    "import plotly.graph_objects as go\n",
    "\n",
    "# 1) Enable Plotly offline mode in Jupyter\n",
    "init_notebook_mode(connected=True)\n",
    "\n",
    "# 2) Reset your MultiIndex and sort by tweet order\n",
    "df_reset  = df.reset_index()  # assumes df is indexed by ['airline','conversation','tweet']\n",
    "df_sorted = df_reset.sort_values(['airline', 'conversation', 'tweet'])\n",
    "\n",
    "# 3) Extract first sentiment_label and compute average sentiment_score from the 3rd tweet onward\n",
    "first = (\n",
    "    df_sorted[df_sorted['tweet'] == df_sorted.groupby(['airline','conversation'])['tweet'].transform('min')]\n",
    "    .set_index(['airline','conversation'])['sentiment_label']\n",
    ")\n",
    "avg_scores = (\n",
    "    df_sorted[df_sorted['tweet'] >= 2]\n",
    "    .groupby(['airline','conversation'])['sentiment_score']\n",
    "    .mean()\n",
    "    .rename('avg_sentiment_score')\n",
    ")\n",
    "\n",
    "# 4) Combine and threshold back into labels\n",
    "trans = (\n",
    "    first.to_frame()\n",
    "    .join(avg_scores, how='inner')\n",
    "    .reset_index()\n",
    ")\n",
    "\n",
    "def score_to_label(s):\n",
    "    if s < -0.4: return 'negative'\n",
    "    if s <= 0.3: return 'neutral'\n",
    "    return 'positive'\n",
    "\n",
    "trans['avg_label'] = trans['avg_sentiment_score'].apply(score_to_label)\n",
    "\n",
    "# 5) Count transitions from first → average\n",
    "counts = trans.groupby(['sentiment_label', 'avg_label']).size().reset_index(name='count')\n",
    "\n",
    "# 6) Define fixed node labels and colors\n",
    "labels = [\n",
    "    \"Positive\\n(first)\", \"Neutral\\n(first)\", \"Negative\\n(first)\",\n",
    "    \"Positive\\n(avg)\",  \"Neutral\\n(avg)\",  \"Negative\\n(avg)\",\n",
    "]\n",
    "node_colors = [\"#4CAF50\", \"#9E9E9E\", \"#F44336\"] * 2\n",
    "first_idx = {\"positive\": 0, \"neutral\": 1, \"negative\": 2}\n",
    "avg_idx   = {\"positive\": 3, \"neutral\": 4, \"negative\": 5}\n",
    "\n",
    "sources = counts['sentiment_label'].map(first_idx)\n",
    "targets = counts['avg_label'].map(avg_idx)\n",
    "values  = counts['count']\n",
    "link_colors = [node_colors[src] for src in sources]\n",
    "\n",
    "# 7) Set node positions: positive top (0.95), neutral middle (0.5), negative bottom (0.05)\n",
    "x = [0, 0, 0,   1, 1, 1]\n",
    "y = [0.95, 0.5, 0.05,   0.95, 0.5, 0.05]\n",
    "\n",
    "# 8) Build the Sankey diagram\n",
    "fig = go.Figure(go.Sankey(\n",
    "    arrangement=\"fixed\",\n",
    "    node=dict(\n",
    "        label=labels,\n",
    "        color=node_colors,\n",
    "        x=x, y=y,\n",
    "        pad=20, thickness=30,\n",
    "        line=dict(color=\"black\", width=1),\n",
    "        hovertemplate=\"%{label}<extra></extra>\"\n",
    "    ),\n",
    "    link=dict(\n",
    "        source=sources, target=targets, value=values,\n",
    "        color=link_colors,\n",
    "        hovertemplate=\"%{value} conversations<extra></extra>\"\n",
    "    )\n",
    "))\n",
    "\n",
    "# 9) Force a square layout and display\n",
    "fig.update_layout(\n",
    "    title_text=\"Sentiment Transition: First Tweet → Avg(3rd+) Tweet\",\n",
    "    width=600, height=600,\n",
    "    font=dict(size=14, family=\"Arial\"),\n",
    "    margin=dict(l=50, r=50, t=80, b=50),\n",
    "    plot_bgcolor=\"white\"\n",
    ")\n",
    "iplot(fig)\n"
   ]
  }
 ],
 "metadata": {
  "kernelspec": {
   "display_name": "Python 3",
   "language": "python",
   "name": "python3"
  },
  "language_info": {
   "codemirror_mode": {
    "name": "ipython",
    "version": 3
   },
   "file_extension": ".py",
   "mimetype": "text/x-python",
   "name": "python",
   "nbconvert_exporter": "python",
   "pygments_lexer": "ipython3",
   "version": "3.13.5"
  }
 },
 "nbformat": 4,
 "nbformat_minor": 5
}
